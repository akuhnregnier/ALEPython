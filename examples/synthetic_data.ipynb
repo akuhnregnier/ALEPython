{
 "cells": [
  {
   "cell_type": "markdown",
   "metadata": {},
   "source": [
    "# General ALE Plotting Examples with Synthetic Data\n",
    "\n",
    "## PDPBox is used to generate comparative PDP plots"
   ]
  },
  {
   "cell_type": "code",
   "execution_count": null,
   "metadata": {},
   "outputs": [],
   "source": [
    "from multiprocessing import cpu_count\n",
    "\n",
    "import matplotlib as mpl\n",
    "import matplotlib.pyplot as plt\n",
    "import numpy as np\n",
    "import pandas as pd\n",
    "from sklearn.ensemble import RandomForestRegressor\n",
    "\n",
    "from alepython import ale_plot\n",
    "from pdpbox import info_plots, pdp"
   ]
  },
  {
   "cell_type": "markdown",
   "metadata": {},
   "source": [
    "### Generate the synthetic data and train our model"
   ]
  },
  {
   "cell_type": "code",
   "execution_count": null,
   "metadata": {},
   "outputs": [],
   "source": [
    "np.random.seed(1)\n",
    "X = pd.DataFrame(np.random.random((int(1e4), 4)), columns=[\"a\", \"b\", \"d\", \"e\"])\n",
    "\n",
    "# Introduce some correlations into the data.\n",
    "X[\"c\"] = X[\"a\"] + 0.8 * np.random.random(X.shape[0])\n",
    "X = X[[\"a\", \"b\", \"c\", \"d\", \"e\"]]\n",
    "\n",
    "y = X[\"a\"] + X[\"b\"] - X[\"c\"] + 0.2 * np.random.random(X.shape[0])\n",
    "y[X[\"b\"] > 0.5] -= 3 * X[\"a\"]\n",
    "\n",
    "y += 10\n",
    "\n",
    "# Apply a transformation to one of the columns to illustrate quantile-based axis labelling.\n",
    "X[\"a\"] = X[\"a\"] ** 3\n",
    "\n",
    "model = RandomForestRegressor(\n",
    "    n_estimators=10,\n",
    "    max_depth=10,\n",
    "    min_samples_leaf=4,\n",
    "    random_state=1,\n",
    "    n_jobs=cpu_count(),\n",
    ")\n",
    "model.fit(X, y)"
   ]
  },
  {
   "cell_type": "markdown",
   "metadata": {},
   "source": [
    "### Note the high correlation between 'a' and 'c'"
   ]
  },
  {
   "cell_type": "code",
   "execution_count": null,
   "metadata": {},
   "outputs": [],
   "source": [
    "X.corr()"
   ]
  },
  {
   "cell_type": "code",
   "execution_count": null,
   "metadata": {},
   "outputs": [],
   "source": [
    "plt.hexbin(X[\"a\"] ** (1 / 3), X[\"b\"], gridsize=20)\n",
    "plt.xlabel(\"a^{1/3}\")\n",
    "plt.ylabel(\"b\")\n",
    "_ = plt.colorbar()"
   ]
  },
  {
   "cell_type": "code",
   "execution_count": null,
   "metadata": {},
   "outputs": [],
   "source": [
    "plt.hexbin(X[\"a\"] ** (1 / 3), X[\"c\"], gridsize=20)\n",
    "plt.xlabel(\"a^{1/3}\")\n",
    "plt.ylabel(\"c\")\n",
    "_ = plt.colorbar()"
   ]
  },
  {
   "cell_type": "code",
   "execution_count": null,
   "metadata": {},
   "outputs": [],
   "source": [
    "np.random.seed(1)\n",
    "fig, axes = ale_plot(\n",
    "    model,\n",
    "    X,\n",
    "    (\"a\",),\n",
    "    bins=20,\n",
    "    monte_carlo=True,\n",
    "    monte_carlo_rep=200,\n",
    "    monte_carlo_ratio=10,\n",
    "    center=True,\n",
    "    quantile_axis=True,\n",
    "    verbose=True,\n",
    ")\n",
    "axes[\"ale\"].xaxis.set_tick_params(rotation=40)"
   ]
  },
  {
   "cell_type": "code",
   "execution_count": null,
   "metadata": {},
   "outputs": [],
   "source": [
    "np.random.seed(1)\n",
    "fig, axes = ale_plot(\n",
    "    model,\n",
    "    X,\n",
    "    (\"b\",),\n",
    "    bins=6,\n",
    "    monte_carlo=True,\n",
    "    monte_carlo_rep=200,\n",
    "    monte_carlo_ratio=10,\n",
    "    center=True,\n",
    "    quantile_axis=True,\n",
    "    verbose=True,\n",
    ")\n",
    "axes[\"ale\"].xaxis.set_tick_params(rotation=40)"
   ]
  },
  {
   "cell_type": "code",
   "execution_count": null,
   "metadata": {},
   "outputs": [],
   "source": [
    "np.random.seed(1)\n",
    "fig, axes = ale_plot(\n",
    "    model,\n",
    "    X,\n",
    "    (\"c\",),\n",
    "    bins=20,\n",
    "    monte_carlo=True,\n",
    "    monte_carlo_rep=200,\n",
    "    monte_carlo_ratio=10,\n",
    "    center=True,\n",
    "    plot_quantiles=True,\n",
    "    quantile_axis=True,\n",
    "    verbose=True,\n",
    ")\n",
    "axes[\"ale\"].xaxis.set_tick_params(rotation=45)\n",
    "axes[\"quantiles_x\"].xaxis.set_tick_params(rotation=45)"
   ]
  },
  {
   "cell_type": "code",
   "execution_count": null,
   "metadata": {},
   "outputs": [],
   "source": [
    "pdp_isolate_out = pdp.pdp_isolate(\n",
    "    model=model, dataset=X, model_features=X.columns, feature=\"a\", num_grid_points=20\n",
    ")\n",
    "fig, axes = pdp.pdp_plot(\n",
    "    pdp_isolate_out,\n",
    "    \"a\",\n",
    "    plot_lines=True,\n",
    "    frac_to_plot=200,\n",
    "    x_quantile=True,\n",
    "    center=True,\n",
    "    figsize=(7, 5),\n",
    ")\n",
    "axes[\"pdp_ax\"].xaxis.set_tick_params(rotation=45)"
   ]
  },
  {
   "cell_type": "code",
   "execution_count": null,
   "metadata": {},
   "outputs": [],
   "source": [
    "pdp_isolate_out = pdp.pdp_isolate(\n",
    "    model=model, dataset=X, model_features=X.columns, feature=\"b\", num_grid_points=20\n",
    ")\n",
    "fig, axes = pdp.pdp_plot(\n",
    "    pdp_isolate_out,\n",
    "    \"b\",\n",
    "    plot_lines=True,\n",
    "    frac_to_plot=200,\n",
    "    x_quantile=True,\n",
    "    center=True,\n",
    "    figsize=(7, 5),\n",
    ")\n",
    "axes[\"pdp_ax\"].xaxis.set_tick_params(rotation=45)"
   ]
  },
  {
   "cell_type": "code",
   "execution_count": null,
   "metadata": {},
   "outputs": [],
   "source": [
    "pdp_isolate_out = pdp.pdp_isolate(\n",
    "    model=model, dataset=X, model_features=X.columns, feature=\"c\", num_grid_points=20\n",
    ")\n",
    "fig, axes = pdp.pdp_plot(\n",
    "    pdp_isolate_out,\n",
    "    \"c\",\n",
    "    plot_lines=True,\n",
    "    frac_to_plot=200,\n",
    "    x_quantile=True,\n",
    "    center=True,\n",
    "    figsize=(7, 5),\n",
    ")\n",
    "axes[\"pdp_ax\"].xaxis.set_tick_params(rotation=45)"
   ]
  },
  {
   "cell_type": "code",
   "execution_count": null,
   "metadata": {},
   "outputs": [],
   "source": [
    "plt.plot(X[\"a\"], y, marker=\"o\", linestyle=\"\", label=\"raw\")\n",
    "mask = X[\"b\"] < 0.5\n",
    "plt.plot(\n",
    "    X[\"a\"][mask], y[mask], marker=\"o\", linestyle=\"\", c=\"C1\", alpha=0.3, label=\"b < 0.5\"\n",
    ")\n",
    "mask = (X[\"b\"] < 0.5) & (X[\"b\"] > 0.4)\n",
    "plt.plot(\n",
    "    X[\"a\"][mask],\n",
    "    y[mask],\n",
    "    marker=\"o\",\n",
    "    linestyle=\"\",\n",
    "    c=\"C2\",\n",
    "    alpha=0.3,\n",
    "    label=\"0.4 < b < 0.5\",\n",
    ")\n",
    "_ = plt.legend(loc=\"best\")"
   ]
  },
  {
   "cell_type": "code",
   "execution_count": null,
   "metadata": {},
   "outputs": [],
   "source": [
    "_ = plt.plot(X[\"b\"], y, marker=\"o\", linestyle=\"\")"
   ]
  },
  {
   "cell_type": "code",
   "execution_count": null,
   "metadata": {},
   "outputs": [],
   "source": [
    "_ = plt.plot(X[\"c\"], y, marker=\"o\", linestyle=\"\")"
   ]
  },
  {
   "cell_type": "code",
   "execution_count": null,
   "metadata": {},
   "outputs": [],
   "source": [
    "fig, axes = ale_plot(model, X, (\"a\", \"b\"), bins=20, quantile_axis=True,)\n",
    "axes[\"ale\"].xaxis.set_tick_params(rotation=45)"
   ]
  },
  {
   "cell_type": "code",
   "execution_count": null,
   "metadata": {},
   "outputs": [],
   "source": [
    "fig, axes = ale_plot(\n",
    "    model,\n",
    "    X,\n",
    "    (\"a\", \"b\"),\n",
    "    bins=20,\n",
    "    quantile_axis=True,\n",
    "    include_first_order=True,\n",
    "    plot_kwargs={\"kind\": \"grid\"},\n",
    ")\n",
    "axes[\"ale\"].xaxis.set_tick_params(rotation=45)"
   ]
  },
  {
   "cell_type": "code",
   "execution_count": null,
   "metadata": {},
   "outputs": [],
   "source": [
    "fig, axes = ale_plot(model, X, (\"a\", \"c\"), bins=20, quantile_axis=True,)\n",
    "axes[\"ale\"].xaxis.set_tick_params(rotation=45)"
   ]
  },
  {
   "cell_type": "code",
   "execution_count": null,
   "metadata": {},
   "outputs": [],
   "source": [
    "fig, axes = ale_plot(\n",
    "    model,\n",
    "    X,\n",
    "    (\"a\", \"c\"),\n",
    "    bins=20,\n",
    "    quantile_axis=True,\n",
    "    plot_kwargs={\"kind\": \"grid\", \"indicate_empty\": 0},\n",
    ")\n",
    "axes[\"ale\"].xaxis.set_tick_params(rotation=45)"
   ]
  },
  {
   "cell_type": "code",
   "execution_count": null,
   "metadata": {},
   "outputs": [],
   "source": [
    "fig, axes = ale_plot(\n",
    "    model,\n",
    "    X,\n",
    "    (\"a\", \"c\"),\n",
    "    bins=20,\n",
    "    quantile_axis=True,\n",
    "    plot_quantiles=True,\n",
    "    plot_kwargs={\"kind\": \"grid\", \"indicate_empty\": 0.4},\n",
    ")\n",
    "axes[\"ale\"].xaxis.set_tick_params(rotation=45)\n",
    "axes[\"quantiles_x\"].xaxis.set_tick_params(rotation=45)"
   ]
  },
  {
   "cell_type": "code",
   "execution_count": null,
   "metadata": {},
   "outputs": [],
   "source": [
    "fig, axes = ale_plot(\n",
    "    model,\n",
    "    X,\n",
    "    (\"a\", \"c\"),\n",
    "    bins=20,\n",
    "    quantile_axis=True,\n",
    "    include_first_order=True,\n",
    "    plot_kwargs={\"kind\": \"contourf\"},\n",
    ")\n",
    "axes[\"ale\"].xaxis.set_tick_params(rotation=45)"
   ]
  },
  {
   "cell_type": "code",
   "execution_count": null,
   "metadata": {},
   "outputs": [],
   "source": [
    "fig, axes = ale_plot(\n",
    "    model,\n",
    "    X,\n",
    "    (\"a\", \"c\"),\n",
    "    bins=20,\n",
    "    quantile_axis=True,\n",
    "    include_first_order=True,\n",
    "    plot_kwargs={\"kind\": \"gridcontour\"},\n",
    ")\n",
    "axes[\"ale\"].xaxis.set_tick_params(rotation=45)"
   ]
  },
  {
   "cell_type": "code",
   "execution_count": null,
   "metadata": {},
   "outputs": [],
   "source": [
    "pdp_interact_out = pdp.pdp_interact(\n",
    "    model=model,\n",
    "    dataset=X,\n",
    "    model_features=X.columns,\n",
    "    features=[\"a\", \"b\"],\n",
    "    num_grid_points=[15, 15],\n",
    ")"
   ]
  },
  {
   "cell_type": "code",
   "execution_count": null,
   "metadata": {},
   "outputs": [],
   "source": [
    "_ = pdp.pdp_interact_plot(pdp_interact_out, [\"a\", \"b\"], x_quantile=True, plot_pdp=False)"
   ]
  }
 ],
 "metadata": {
  "kernelspec": {
   "display_name": "Python 3",
   "language": "python",
   "name": "python3"
  }
 },
 "nbformat": 4,
 "nbformat_minor": 4
}
