{
 "cells": [
  {
   "cell_type": "markdown",
   "metadata": {},
   "source": [
    "# General ALE Plotting Examples - Dummy Data - PDPBox Comparison"
   ]
  },
  {
   "cell_type": "code",
   "execution_count": null,
   "metadata": {},
   "outputs": [],
   "source": [
    "from multiprocessing import cpu_count\n",
    "\n",
    "import matplotlib as mpl\n",
    "import matplotlib.pyplot as plt\n",
    "import numpy as np\n",
    "import pandas as pd\n",
    "from sklearn.ensemble import RandomForestRegressor\n",
    "\n",
    "from alepython import ale_plot\n",
    "from pdpbox import info_plots, pdp\n",
    "\n",
    "mpl.rc(\"figure\", dpi=100)"
   ]
  },
  {
   "cell_type": "markdown",
   "metadata": {},
   "source": [
    "### Generate the dummy data"
   ]
  },
  {
   "cell_type": "code",
   "execution_count": null,
   "metadata": {},
   "outputs": [],
   "source": [
    "np.random.seed(1)\n",
    "X = pd.DataFrame(np.random.random((int(1e4), 5)), columns=[\"a\", \"b\", \"c\", \"d\", \"e\"])\n",
    "y = X[\"a\"] + X[\"b\"] - X[\"c\"] + 0.2 * np.random.random(X.shape[0])\n",
    "y[X[\"b\"] > 0.5] -= 3 * X[\"a\"]\n",
    "X[\"a\"] = X[\"a\"] ** 3\n",
    "X[\"d\"] -= 0.5\n",
    "\n",
    "model = RandomForestRegressor(\n",
    "    n_estimators=50, max_depth=6, min_samples_leaf=4, random_state=1, n_jobs=cpu_count()\n",
    ")\n",
    "model.fit(X, y)"
   ]
  },
  {
   "cell_type": "code",
   "execution_count": null,
   "metadata": {},
   "outputs": [],
   "source": [
    "X.corr()"
   ]
  },
  {
   "cell_type": "code",
   "execution_count": null,
   "metadata": {},
   "outputs": [],
   "source": [
    "np.random.seed(1)\n",
    "fig, ax = ale_plot(\n",
    "    model,\n",
    "    X,\n",
    "    (\"a\",),\n",
    "    bins=20,\n",
    "    monte_carlo=True,\n",
    "    monte_carlo_rep=5,\n",
    "    monte_carlo_ratio=20,\n",
    "    center=True,\n",
    "    quantile_axis=True,\n",
    ")\n",
    "ax.xaxis.set_tick_params(rotation=35)"
   ]
  },
  {
   "cell_type": "code",
   "execution_count": null,
   "metadata": {},
   "outputs": [],
   "source": [
    "np.random.seed(1)\n",
    "fig, ax = ale_plot(\n",
    "    model,\n",
    "    X,\n",
    "    (\"b\",),\n",
    "    bins=20,\n",
    "    monte_carlo=True,\n",
    "    monte_carlo_rep=200,\n",
    "    monte_carlo_ratio=10,\n",
    "    center=True,\n",
    "    quantile_axis=True,\n",
    ")\n",
    "ax.xaxis.set_tick_params(rotation=35)"
   ]
  },
  {
   "cell_type": "code",
   "execution_count": null,
   "metadata": {},
   "outputs": [],
   "source": [
    "np.random.seed(1)\n",
    "fig, ax = ale_plot(\n",
    "    model,\n",
    "    X,\n",
    "    (\"c\",),\n",
    "    bins=20,\n",
    "    monte_carlo=True,\n",
    "    monte_carlo_rep=200,\n",
    "    monte_carlo_ratio=10,\n",
    "    center=True,\n",
    "    quantile_axis=True,\n",
    "    verbose=True,\n",
    ")\n",
    "ax.xaxis.set_tick_params(rotation=35)"
   ]
  },
  {
   "cell_type": "code",
   "execution_count": null,
   "metadata": {},
   "outputs": [],
   "source": [
    "np.random.seed(1)\n",
    "fig, ax = ale_plot(\n",
    "    model,\n",
    "    X,\n",
    "    (\"d\",),\n",
    "    bins=20,\n",
    "    monte_carlo=True,\n",
    "    monte_carlo_rep=200,\n",
    "    monte_carlo_ratio=10,\n",
    "    center=True,\n",
    "    quantile_axis=True,\n",
    "    verbose=True,\n",
    ")\n",
    "ax.xaxis.set_tick_params(rotation=35)"
   ]
  }
 ],
 "metadata": {
  "kernelspec": {
   "display_name": "Python [conda env:alepython]",
   "language": "python",
   "name": "conda-env-alepython-py"
  }
 },
 "nbformat": 4,
 "nbformat_minor": 4
}
