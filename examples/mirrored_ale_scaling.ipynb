{
 "cells": [
  {
   "cell_type": "markdown",
   "metadata": {},
   "source": [
    "# Scaling of the errors in the symmetric 2D ALE plot\n",
    "\n",
    "As the number of samples is increased, the discretisation errors are observed to decrease as expected, thus showing that the method is working as intended, producing the opposite 2nd order effect on the two quantile halves."
   ]
  },
  {
   "cell_type": "code",
   "execution_count": null,
   "metadata": {},
   "outputs": [],
   "source": [
    "from collections import defaultdict\n",
    "from concurrent.futures import ProcessPoolExecutor, as_completed\n",
    "from itertools import product\n",
    "\n",
    "import matplotlib as mpl\n",
    "import matplotlib.pyplot as plt\n",
    "import numpy as np\n",
    "import pandas as pd\n",
    "from tqdm import tqdm\n",
    "\n",
    "from alepython.ale import (\n",
    "    _get_centres,\n",
    "    _get_quantiles,\n",
    "    first_order_ale_quant,\n",
    "    second_order_ale_quant,\n",
    ")"
   ]
  },
  {
   "cell_type": "code",
   "execution_count": null,
   "metadata": {},
   "outputs": [],
   "source": [
    "def interaction_predictor(X):\n",
    "    \"\"\"Interaction changes sign at b = 0.5.\"\"\"\n",
    "    a = X[\"a\"]\n",
    "    b = X[\"b\"]\n",
    "\n",
    "    out = np.empty_like(a)\n",
    "\n",
    "    mask = b <= 0.5\n",
    "    out[mask] = a[mask] * b[mask]\n",
    "    mask = ~mask\n",
    "    out[mask] = -a[mask] * (1 - b[mask])\n",
    "\n",
    "    return out\n",
    "\n",
    "\n",
    "def test_ale_mirror(N=int(1e3), seed=1, nbins=3):\n",
    "    assert nbins % 2 == 1\n",
    "    # nbins needs to be an odd number to yield an even number of edges.\n",
    "\n",
    "    np.random.seed(seed)\n",
    "    b = np.linspace(0, 1, N)\n",
    "\n",
    "    n_unique = _get_quantiles(pd.DataFrame({\"b\": b}), \"b\", nbins)[1]\n",
    "    if n_unique != nbins:\n",
    "        # Likely a floating point error in the quantile calculation.\n",
    "        return None, None\n",
    "\n",
    "    # Ensure the data is mirrored around b=0.5.\n",
    "    a_comp = np.random.random(N // 2) * 2\n",
    "    a = np.append(a_comp, a_comp[::-1])\n",
    "    X = pd.DataFrame({\"a\": a, \"b\": b})\n",
    "\n",
    "    quantiles_list, ale, samples = second_order_ale_quant(\n",
    "        interaction_predictor, X, X.columns, nbins\n",
    "    )\n",
    "\n",
    "    b_quantiles = quantiles_list[1]\n",
    "\n",
    "    assert np.allclose(\n",
    "        b_quantiles[: (nbins + 1) // 2],\n",
    "        1 - np.array(b_quantiles[(nbins + 1) // 2 :][::-1]),\n",
    "        atol=1e-2,\n",
    "    )\n",
    "\n",
    "    diff = np.abs(ale[:, : (nbins + 1) // 2] - ale[:, (nbins + 1) // 2 :][::-1, ::-1])\n",
    "    return np.mean(diff), np.std(diff)"
   ]
  },
  {
   "cell_type": "code",
   "execution_count": null,
   "metadata": {},
   "outputs": [],
   "source": [
    "data = defaultdict(list)\n",
    "\n",
    "Nlist = [int(1e5), int(1e6), int(1e7)]\n",
    "\n",
    "with ProcessPoolExecutor(max_workers=None) as executor:\n",
    "    fs = []\n",
    "    for N, seed, nbins in product(\n",
    "        Nlist, np.arange(20), (np.linspace(1, 16, 3, dtype=np.int64) * 2) + 1\n",
    "    ):\n",
    "        fs.append(executor.submit(test_ale_mirror, N, seed, nbins))\n",
    "        data[\"N\"].append(\n",
    "            np.format_float_scientific(\n",
    "                N, precision=0, unique=False, exp_digits=1, sign=False\n",
    "            )\n",
    "        )\n",
    "        data[\"seed\"].append(seed)\n",
    "        data[\"nbins\"].append(nbins)\n",
    "\n",
    "    for _ in tqdm(as_completed(fs), total=len(fs), desc=\"Processing\"):\n",
    "        pass\n",
    "\n",
    "# Finally, append the results themselves to the dictionary.\n",
    "for f in fs:\n",
    "    mean, std = f.result()\n",
    "    data[\"mean\"].append(mean)\n",
    "    data[\"std\"].append(std)"
   ]
  },
  {
   "cell_type": "code",
   "execution_count": null,
   "metadata": {},
   "outputs": [],
   "source": [
    "df = pd.DataFrame(data)\n",
    "df"
   ]
  },
  {
   "cell_type": "markdown",
   "metadata": {},
   "source": [
    "## The mean error decreases with an increasing number of samples per bin\n",
    "\n",
    "### Thus it increases with the number of bins (nbins)"
   ]
  },
  {
   "cell_type": "code",
   "execution_count": null,
   "metadata": {},
   "outputs": [],
   "source": [
    "mpl.rc(\"figure\", figsize=(15, 8))\n",
    "axes = df.boxplot(column=[\"mean\", \"std\"], by=[\"N\", \"nbins\"])\n",
    "for ax in axes:\n",
    "    ax.xaxis.set_tick_params(rotation=45)"
   ]
  },
  {
   "cell_type": "markdown",
   "metadata": {},
   "source": [
    "### This should be random, as the exact sequence of pseudorandom numbers should not affect the estimate"
   ]
  },
  {
   "cell_type": "code",
   "execution_count": null,
   "metadata": {},
   "outputs": [],
   "source": [
    "mpl.rc(\"figure\", figsize=(15, 8))\n",
    "axes = df.boxplot(column=[\"mean\", \"std\"], by=[\"seed\"])\n",
    "for ax in axes:\n",
    "    ax.xaxis.set_tick_params(rotation=45)"
   ]
  }
 ],
 "metadata": {
  "kernelspec": {
   "display_name": "Python 3",
   "language": "python",
   "name": "python3"
  }
 },
 "nbformat": 4,
 "nbformat_minor": 4
}
