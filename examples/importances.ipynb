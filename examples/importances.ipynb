{
 "cells": [
  {
   "cell_type": "code",
   "execution_count": null,
   "metadata": {},
   "outputs": [],
   "source": [
    "from itertools import combinations\n",
    "\n",
    "import matplotlib.pyplot as plt\n",
    "import numpy as np\n",
    "import pandas as pd\n",
    "from sklearn.ensemble import RandomForestRegressor\n",
    "\n",
    "from alepython import ale_plot"
   ]
  },
  {
   "cell_type": "code",
   "execution_count": null,
   "metadata": {},
   "outputs": [],
   "source": [
    "rng = np.random.default_rng(0)\n",
    "X = pd.DataFrame(rng.random((int(1e4), 2)), columns=[\"a\", \"b\"])\n",
    "\n",
    "# Introduce correlation between 'a', 'b', and 'c'.\n",
    "X[\"c\"] = 0.4 * X[\"a\"] + 0.6 * X[\"b\"] + rng.random(X.shape[0])\n",
    "X = X[[\"a\", \"b\", \"c\"]]\n",
    "\n",
    "# Construct the output variable.\n",
    "y = 0.5 * X[\"a\"] + 0.1 * X[\"b\"] - 0.3 * X[\"c\"] + 0.2 * rng.random(X.shape[0])\n",
    "\n",
    "# Introduce an interaction effect between 'b' and 'c'.\n",
    "y[X[\"b\"] > 0.5] -= X[\"c\"]\n",
    "\n",
    "model = RandomForestRegressor(\n",
    "    n_estimators=100,\n",
    "    max_depth=10,\n",
    "    min_samples_leaf=4,\n",
    "    random_state=1,\n",
    "    n_jobs=-1,\n",
    ")\n",
    "model.fit(X, y)"
   ]
  },
  {
   "cell_type": "markdown",
   "metadata": {},
   "source": [
    "### Get first-order ALE plots and data"
   ]
  },
  {
   "cell_type": "code",
   "execution_count": null,
   "metadata": {},
   "outputs": [],
   "source": [
    "first_order_data = []\n",
    "for feature in X.columns:\n",
    "    fig, axes, data = ale_plot(\n",
    "        model,\n",
    "        X,\n",
    "        feature,\n",
    "        bins=20,\n",
    "        fig=plt.figure(),\n",
    "        monte_carlo=True,\n",
    "        monte_carlo_rep=200,\n",
    "        monte_carlo_ratio=20,\n",
    "        verbose=True,\n",
    "        plot_quantiles=True,\n",
    "        center=True,\n",
    "        quantile_axis=True,\n",
    "        return_data=True,\n",
    "        rng=np.random.default_rng(0),\n",
    "    )\n",
    "    first_order_data.append(data)\n",
    "    axes[\"ale\"].xaxis.set_tick_params(rotation=45)\n",
    "    axes[\"quantiles_x\"].xaxis.set_tick_params(rotation=45)"
   ]
  },
  {
   "cell_type": "markdown",
   "metadata": {},
   "source": [
    "### Get second-order ALE plots and data"
   ]
  },
  {
   "cell_type": "code",
   "execution_count": null,
   "metadata": {},
   "outputs": [],
   "source": [
    "second_order_data = []\n",
    "for features in combinations(X.columns, 2):\n",
    "    fig, axes, data = ale_plot(\n",
    "        model,\n",
    "        X,\n",
    "        features,\n",
    "        bins=20,\n",
    "        fig=plt.figure(),\n",
    "        plot_quantiles=True,\n",
    "        quantile_axis=True,\n",
    "        return_data=True,\n",
    "        n_jobs=-1,\n",
    "    )\n",
    "    second_order_data.append(data)\n",
    "    axes[\"ale\"].xaxis.set_tick_params(rotation=45)\n",
    "    axes[\"quantiles_x\"].xaxis.set_tick_params(rotation=45)"
   ]
  },
  {
   "cell_type": "markdown",
   "metadata": {},
   "source": [
    "### Importances based off the vertical extent of the first-order ALE plots"
   ]
  },
  {
   "cell_type": "code",
   "execution_count": null,
   "metadata": {},
   "outputs": [],
   "source": [
    "first_order_imps = {}\n",
    "for feature, data in zip(X.columns, first_order_data):\n",
    "    quantiles, ale = data\n",
    "    first_order_imps[feature] = np.ptp(ale)\n",
    "first_order_imps = pd.Series(first_order_imps, name=\"1st Order Importance\")\n",
    "first_order_imps"
   ]
  },
  {
   "cell_type": "markdown",
   "metadata": {},
   "source": [
    "### Importances based off the amplitude of the second-order ALE plots"
   ]
  },
  {
   "cell_type": "code",
   "execution_count": null,
   "metadata": {},
   "outputs": [],
   "source": [
    "second_order_imps = {}\n",
    "for features, data in zip(combinations(X.columns, 2), second_order_data):\n",
    "    quantiles, ale, samples = data\n",
    "    second_order_imps[features] = np.ptp(ale)\n",
    "second_order_imps = pd.Series(second_order_imps, name=\"2nd Order Importance\")\n",
    "second_order_imps"
   ]
  },
  {
   "cell_type": "markdown",
   "metadata": {},
   "source": [
    "### Evaluate the feature correlations"
   ]
  },
  {
   "cell_type": "code",
   "execution_count": null,
   "metadata": {},
   "outputs": [],
   "source": [
    "X.corr()"
   ]
  }
 ],
 "metadata": {
  "kernelspec": {
   "display_name": "Python 3",
   "language": "python",
   "name": "python3"
  }
 },
 "nbformat": 4,
 "nbformat_minor": 4
}
