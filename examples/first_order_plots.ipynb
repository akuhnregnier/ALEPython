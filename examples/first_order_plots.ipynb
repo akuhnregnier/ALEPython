{
 "cells": [
  {
   "cell_type": "markdown",
   "metadata": {},
   "source": [
    "### Demonstration of different first-order (1D) plotting functions using synthetic data"
   ]
  },
  {
   "cell_type": "code",
   "execution_count": null,
   "metadata": {},
   "outputs": [],
   "source": [
    "import matplotlib.pyplot as plt\n",
    "import numpy as np\n",
    "import pandas as pd\n",
    "from sklearn.ensemble import RandomForestRegressor\n",
    "\n",
    "from alepython import ale_plot"
   ]
  },
  {
   "cell_type": "markdown",
   "metadata": {},
   "source": [
    "### Generate the synthetic data and train our model"
   ]
  },
  {
   "cell_type": "code",
   "execution_count": null,
   "metadata": {},
   "outputs": [],
   "source": [
    "np.random.seed(1)\n",
    "X = pd.DataFrame(np.random.random((int(1e4), 4)), columns=[\"a\", \"b\", \"d\", \"e\"])\n",
    "\n",
    "# Introduce some correlations into the data.\n",
    "X[\"c\"] = X[\"a\"] + 0.8 * np.random.random(X.shape[0])\n",
    "X = X[[\"a\", \"b\", \"c\", \"d\", \"e\"]]\n",
    "\n",
    "y = X[\"a\"] + X[\"b\"] - X[\"c\"] + 0.2 * np.random.random(X.shape[0])\n",
    "y[X[\"b\"] > 0.5] -= 3 * X[\"a\"]\n",
    "\n",
    "y += 10\n",
    "\n",
    "# Apply a transformation to one of the columns to illustrate quantile-based axis labelling.\n",
    "X[\"a\"] = X[\"a\"] ** 3\n",
    "\n",
    "model = RandomForestRegressor(\n",
    "    n_estimators=10,\n",
    "    max_depth=10,\n",
    "    min_samples_leaf=4,\n",
    "    random_state=1,\n",
    "    n_jobs=-1,\n",
    ")\n",
    "model.fit(X, y)"
   ]
  },
  {
   "cell_type": "markdown",
   "metadata": {},
   "source": [
    "### Note the high correlation between 'a' and 'c'"
   ]
  },
  {
   "cell_type": "code",
   "execution_count": null,
   "metadata": {},
   "outputs": [],
   "source": [
    "X.corr()"
   ]
  },
  {
   "cell_type": "code",
   "execution_count": null,
   "metadata": {},
   "outputs": [],
   "source": [
    "plt.hexbin(X[\"a\"] ** (1 / 3), X[\"b\"], gridsize=20)\n",
    "plt.xlabel(\"a^{1/3}\")\n",
    "plt.ylabel(\"b\")\n",
    "_ = plt.colorbar()"
   ]
  },
  {
   "cell_type": "code",
   "execution_count": null,
   "metadata": {},
   "outputs": [],
   "source": [
    "plt.hexbin(X[\"a\"] ** (1 / 3), X[\"c\"], gridsize=20)\n",
    "plt.xlabel(\"a^{1/3}\")\n",
    "plt.ylabel(\"c\")\n",
    "_ = plt.colorbar()"
   ]
  },
  {
   "cell_type": "code",
   "execution_count": null,
   "metadata": {},
   "outputs": [],
   "source": [
    "np.random.seed(1)\n",
    "fig, axes = ale_plot(\n",
    "    model,\n",
    "    X,\n",
    "    (\"a\",),\n",
    "    bins=20,\n",
    "    monte_carlo=True,\n",
    "    monte_carlo_rep=200,\n",
    "    monte_carlo_ratio=10,\n",
    "    center=True,\n",
    "    quantile_axis=True,\n",
    "    verbose=True,\n",
    ")\n",
    "axes[\"ale\"].xaxis.set_tick_params(rotation=40)"
   ]
  },
  {
   "cell_type": "code",
   "execution_count": null,
   "metadata": {},
   "outputs": [],
   "source": [
    "np.random.seed(1)\n",
    "fig, axes = ale_plot(\n",
    "    model,\n",
    "    X,\n",
    "    (\"a\",),\n",
    "    bins=20,\n",
    "    monte_carlo=True,\n",
    "    monte_carlo_rep=200,\n",
    "    monte_carlo_ratio=10,\n",
    "    monte_carlo_hull=True,\n",
    "    monte_carlo_hull_alpha=0.2,\n",
    "    center=True,\n",
    "    quantile_axis=True,\n",
    "    verbose=True,\n",
    ")\n",
    "axes[\"ale\"].xaxis.set_tick_params(rotation=40)"
   ]
  },
  {
   "cell_type": "code",
   "execution_count": null,
   "metadata": {},
   "outputs": [],
   "source": [
    "np.random.seed(1)\n",
    "fig, axes = ale_plot(\n",
    "    model,\n",
    "    X,\n",
    "    (\"b\",),\n",
    "    bins=6,\n",
    "    monte_carlo=True,\n",
    "    monte_carlo_rep=200,\n",
    "    monte_carlo_ratio=10,\n",
    "    center=True,\n",
    "    quantile_axis=True,\n",
    "    verbose=True,\n",
    ")\n",
    "axes[\"ale\"].xaxis.set_tick_params(rotation=40)"
   ]
  },
  {
   "cell_type": "code",
   "execution_count": null,
   "metadata": {},
   "outputs": [],
   "source": [
    "np.random.seed(1)\n",
    "fig, axes = ale_plot(\n",
    "    model,\n",
    "    X,\n",
    "    (\"b\",),\n",
    "    bins=6,\n",
    "    monte_carlo=True,\n",
    "    monte_carlo_rep=200,\n",
    "    monte_carlo_ratio=10,\n",
    "    monte_carlo_hull=True,\n",
    "    monte_carlo_hull_alpha=0.5,\n",
    "    center=True,\n",
    "    quantile_axis=True,\n",
    "    verbose=True,\n",
    ")\n",
    "axes[\"ale\"].xaxis.set_tick_params(rotation=40)"
   ]
  },
  {
   "cell_type": "code",
   "execution_count": null,
   "metadata": {},
   "outputs": [],
   "source": [
    "np.random.seed(1)\n",
    "fig, axes = ale_plot(\n",
    "    model,\n",
    "    X,\n",
    "    (\"c\",),\n",
    "    bins=20,\n",
    "    monte_carlo=True,\n",
    "    monte_carlo_rep=200,\n",
    "    monte_carlo_ratio=10,\n",
    "    center=True,\n",
    "    plot_quantiles=True,\n",
    "    quantile_axis=True,\n",
    "    verbose=True,\n",
    "    fig=plt.figure(dpi=100),\n",
    ")\n",
    "axes[\"ale\"].xaxis.set_tick_params(rotation=45)\n",
    "axes[\"quantiles_x\"].xaxis.set_tick_params(rotation=45)"
   ]
  },
  {
   "cell_type": "code",
   "execution_count": null,
   "metadata": {},
   "outputs": [],
   "source": [
    "np.random.seed(1)\n",
    "fig, axes = ale_plot(\n",
    "    model,\n",
    "    X,\n",
    "    (\"c\",),\n",
    "    bins=20,\n",
    "    monte_carlo=True,\n",
    "    monte_carlo_rep=200,\n",
    "    monte_carlo_ratio=10,\n",
    "    monte_carlo_hull=True,\n",
    "    monte_carlo_hull_alpha=0.2,\n",
    "    center=True,\n",
    "    plot_quantiles=True,\n",
    "    quantile_axis=True,\n",
    "    verbose=True,\n",
    "    fig=plt.figure(dpi=100),\n",
    ")\n",
    "axes[\"ale\"].xaxis.set_tick_params(rotation=45)\n",
    "axes[\"quantiles_x\"].xaxis.set_tick_params(rotation=45)"
   ]
  }
 ],
 "metadata": {
  "kernelspec": {
   "display_name": "Python 3",
   "language": "python",
   "name": "python3"
  }
 },
 "nbformat": 4,
 "nbformat_minor": 4
}
