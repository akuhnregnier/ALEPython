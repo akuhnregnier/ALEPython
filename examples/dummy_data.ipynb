{
 "cells": [
  {
   "cell_type": "markdown",
   "metadata": {},
   "source": [
    "# General ALE Plotting Examples - Dummy Data - PDPBox Comparison"
   ]
  },
  {
   "cell_type": "code",
   "execution_count": null,
   "metadata": {},
   "outputs": [],
   "source": [
    "from multiprocessing import cpu_count\n",
    "\n",
    "import matplotlib as mpl\n",
    "import matplotlib.pyplot as plt\n",
    "import numpy as np\n",
    "import pandas as pd\n",
    "from sklearn.ensemble import RandomForestRegressor\n",
    "\n",
    "from alepython import ale_plot\n",
    "from pdpbox import info_plots, pdp\n",
    "\n",
    "mpl.rc(\"figure\", dpi=100)"
   ]
  },
  {
   "cell_type": "markdown",
   "metadata": {},
   "source": [
    "### Generate the dummy data"
   ]
  },
  {
   "cell_type": "code",
   "execution_count": null,
   "metadata": {},
   "outputs": [],
   "source": [
    "np.random.seed(1)\n",
    "X = pd.DataFrame(np.random.random((int(1e4), 5)), columns=[\"a\", \"b\", \"c\", \"d\", \"e\"])\n",
    "y = X[\"a\"] + X[\"b\"] - X[\"c\"] + 0.2 * np.random.random(X.shape[0])\n",
    "y[X[\"b\"] > 0.5] -= 3 * X[\"a\"]\n",
    "X[\"a\"] = X[\"a\"] ** 3\n",
    "\n",
    "model = RandomForestRegressor(\n",
    "    n_estimators=50, max_depth=6, min_samples_leaf=4, random_state=1, n_jobs=cpu_count()\n",
    ")\n",
    "model.fit(X, y)"
   ]
  },
  {
   "cell_type": "code",
   "execution_count": null,
   "metadata": {},
   "outputs": [],
   "source": [
    "X.corr()"
   ]
  },
  {
   "cell_type": "code",
   "execution_count": null,
   "metadata": {},
   "outputs": [],
   "source": [
    "np.random.seed(1)\n",
    "fig, ax = ale_plot(\n",
    "    model,\n",
    "    X,\n",
    "    (\"a\",),\n",
    "    bins=20,\n",
    "    monte_carlo=True,\n",
    "    monte_carlo_rep=5,\n",
    "    monte_carlo_ratio=20,\n",
    "    center=True,\n",
    "    quantile_axis=True,\n",
    ")\n",
    "ax.xaxis.set_tick_params(rotation=35)"
   ]
  },
  {
   "cell_type": "code",
   "execution_count": null,
   "metadata": {},
   "outputs": [],
   "source": [
    "np.random.seed(1)\n",
    "fig, ax = ale_plot(\n",
    "    model,\n",
    "    X,\n",
    "    (\"b\",),\n",
    "    bins=20,\n",
    "    monte_carlo=True,\n",
    "    monte_carlo_rep=200,\n",
    "    monte_carlo_ratio=10,\n",
    "    center=True,\n",
    "    quantile_axis=True,\n",
    ")\n",
    "ax.xaxis.set_tick_params(rotation=35)"
   ]
  },
  {
   "cell_type": "code",
   "execution_count": null,
   "metadata": {},
   "outputs": [],
   "source": [
    "np.random.seed(1)\n",
    "fig, ax = ale_plot(\n",
    "    model,\n",
    "    X,\n",
    "    (\"c\",),\n",
    "    bins=20,\n",
    "    monte_carlo=True,\n",
    "    monte_carlo_rep=200,\n",
    "    monte_carlo_ratio=10,\n",
    "    center=True,\n",
    "    quantile_axis=True,\n",
    "    verbose=True,\n",
    ")\n",
    "ax.xaxis.set_tick_params(rotation=35)"
   ]
  },
  {
   "cell_type": "code",
   "execution_count": null,
   "metadata": {},
   "outputs": [],
   "source": [
    "pdp_isolate_out = pdp.pdp_isolate(\n",
    "    model=model, dataset=X, model_features=X.columns, feature=\"a\", num_grid_points=10\n",
    ")\n",
    "_ = pdp.pdp_plot(\n",
    "    pdp_isolate_out,\n",
    "    \"a\",\n",
    "    plot_lines=True,\n",
    "    frac_to_plot=20,\n",
    "    x_quantile=True,\n",
    "    center=True,\n",
    "    figsize=(7, 5),\n",
    ")"
   ]
  },
  {
   "cell_type": "code",
   "execution_count": null,
   "metadata": {},
   "outputs": [],
   "source": [
    "pdp_isolate_out = pdp.pdp_isolate(\n",
    "    model=model, dataset=X, model_features=X.columns, feature=\"b\", num_grid_points=10\n",
    ")\n",
    "_ = pdp.pdp_plot(\n",
    "    pdp_isolate_out,\n",
    "    \"b\",\n",
    "    plot_lines=True,\n",
    "    frac_to_plot=20,\n",
    "    x_quantile=True,\n",
    "    center=True,\n",
    "    figsize=(7, 5),\n",
    ")"
   ]
  },
  {
   "cell_type": "code",
   "execution_count": null,
   "metadata": {},
   "outputs": [],
   "source": [
    "pdp_isolate_out = pdp.pdp_isolate(\n",
    "    model=model, dataset=X, model_features=X.columns, feature=\"c\", num_grid_points=20\n",
    ")\n",
    "_ = pdp.pdp_plot(\n",
    "    pdp_isolate_out,\n",
    "    \"c\",\n",
    "    plot_lines=True,\n",
    "    frac_to_plot=20,\n",
    "    x_quantile=True,\n",
    "    center=True,\n",
    "    figsize=(7, 5),\n",
    ")"
   ]
  },
  {
   "cell_type": "code",
   "execution_count": null,
   "metadata": {},
   "outputs": [],
   "source": [
    "plt.plot(X[\"a\"], y, marker=\"o\", linestyle=\"\", label=\"raw\")\n",
    "mask = X[\"b\"] < 0.5\n",
    "plt.plot(\n",
    "    X[\"a\"][mask], y[mask], marker=\"o\", linestyle=\"\", c=\"C1\", alpha=0.3, label=\"b < 0.5\"\n",
    ")\n",
    "mask = (X[\"b\"] < 0.5) & (X[\"b\"] > 0.4)\n",
    "plt.plot(\n",
    "    X[\"a\"][mask],\n",
    "    y[mask],\n",
    "    marker=\"o\",\n",
    "    linestyle=\"\",\n",
    "    c=\"C2\",\n",
    "    alpha=0.3,\n",
    "    label=\"0.4 < b < 0.5\",\n",
    ")\n",
    "plt.legend(loc=\"best\")"
   ]
  },
  {
   "cell_type": "code",
   "execution_count": null,
   "metadata": {},
   "outputs": [],
   "source": [
    "plt.plot(X[\"b\"], y, marker=\"o\", linestyle=\"\")"
   ]
  },
  {
   "cell_type": "code",
   "execution_count": null,
   "metadata": {},
   "outputs": [],
   "source": [
    "plt.plot(X[\"c\"], y, marker=\"o\", linestyle=\"\")"
   ]
  },
  {
   "cell_type": "code",
   "execution_count": null,
   "metadata": {},
   "outputs": [],
   "source": [
    "fig, ax = ale_plot(\n",
    "    model,\n",
    "    X,\n",
    "    (\"a\", \"b\"),\n",
    "    bins=10,\n",
    "    monte_carlo=True,\n",
    "    monte_carlo_rep=5,\n",
    "    monte_carlo_ratio=20,\n",
    "    center=True,\n",
    "    quantile_axis=True,\n",
    ")\n",
    "ax.xaxis.set_tick_params(rotation=20)"
   ]
  },
  {
   "cell_type": "code",
   "execution_count": null,
   "metadata": {},
   "outputs": [],
   "source": [
    "fig, ax = ale_plot(\n",
    "    model,\n",
    "    X,\n",
    "    (\"a\", \"b\"),\n",
    "    bins=10,\n",
    "    monte_carlo=True,\n",
    "    monte_carlo_rep=5,\n",
    "    monte_carlo_ratio=20,\n",
    "    center=True,\n",
    "    quantile_axis=True,\n",
    "    pure_second_order=False,\n",
    ")\n",
    "ax.xaxis.set_tick_params(rotation=20)"
   ]
  },
  {
   "cell_type": "code",
   "execution_count": null,
   "metadata": {},
   "outputs": [],
   "source": [
    "pdp_interact_out = pdp.pdp_interact(\n",
    "    model=model,\n",
    "    dataset=X,\n",
    "    model_features=X.columns,\n",
    "    features=[\"a\", \"b\"],\n",
    "    num_grid_points=[20, 20],\n",
    ")"
   ]
  },
  {
   "cell_type": "code",
   "execution_count": null,
   "metadata": {},
   "outputs": [],
   "source": [
    "_ = pdp.pdp_interact_plot(pdp_interact_out, [\"a\", \"b\"], x_quantile=True, plot_pdp=False)"
   ]
  }
 ],
 "metadata": {
  "kernelspec": {
   "display_name": "Python [conda env:alepython]",
   "language": "python",
   "name": "conda-env-alepython-py"
  }
 },
 "nbformat": 4,
 "nbformat_minor": 4
}
