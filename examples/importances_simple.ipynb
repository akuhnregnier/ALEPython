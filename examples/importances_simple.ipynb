{
 "cells": [
  {
   "cell_type": "markdown",
   "metadata": {},
   "source": [
    "# Feature Importances\n",
    "\n",
    "## Comparing ALE estimates and SHAP values"
   ]
  },
  {
   "cell_type": "code",
   "execution_count": null,
   "metadata": {},
   "outputs": [],
   "source": [
    "import math\n",
    "from concurrent.futures import ProcessPoolExecutor, wait\n",
    "from itertools import combinations\n",
    "\n",
    "import matplotlib.pyplot as plt\n",
    "import numpy as np\n",
    "import pandas as pd\n",
    "from shap import (\n",
    "    TreeExplainer,\n",
    "    decision_plot,\n",
    "    dependence_plot,\n",
    "    force_plot,\n",
    "    initjs,\n",
    "    summary_plot,\n",
    ")\n",
    "from sklearn.ensemble import RandomForestRegressor\n",
    "from tqdm.auto import tqdm\n",
    "\n",
    "from alepython import ale_plot\n",
    "\n",
    "initjs()"
   ]
  },
  {
   "cell_type": "code",
   "execution_count": null,
   "metadata": {},
   "outputs": [],
   "source": [
    "np.random.seed(1)\n",
    "X = pd.DataFrame(np.random.random((int(1e3), 2)), columns=[\"a\", \"b\"])\n",
    "\n",
    "# Construct the output variable.\n",
    "y = 0.5 * X[\"a\"] - 1 * X[\"b\"] + 0.02 * np.random.random(X.shape[0])\n",
    "\n",
    "# Introduce an interaction effect between 'a' and 'b'.\n",
    "y[X[\"b\"] > 0.5] -= X[\"a\"]\n",
    "\n",
    "model = RandomForestRegressor(\n",
    "    n_estimators=100, max_depth=10, min_samples_leaf=4, random_state=1, n_jobs=-1,\n",
    ")\n",
    "model.fit(X, y)"
   ]
  },
  {
   "cell_type": "markdown",
   "metadata": {},
   "source": [
    "### Get first-order ALE plots and data"
   ]
  },
  {
   "cell_type": "code",
   "execution_count": null,
   "metadata": {},
   "outputs": [],
   "source": [
    "first_order_data = []\n",
    "for feature in tqdm(X.columns, desc=\"Feature ALEs\"):\n",
    "    fig, axes, data = ale_plot(\n",
    "        model,\n",
    "        X,\n",
    "        feature,\n",
    "        bins=20,\n",
    "        fig=plt.figure(),\n",
    "        monte_carlo=True,\n",
    "        monte_carlo_rep=200,\n",
    "        monte_carlo_ratio=20,\n",
    "        verbose=True,\n",
    "        plot_quantiles=True,\n",
    "        center=True,\n",
    "        quantile_axis=True,\n",
    "        return_data=True,\n",
    "    )\n",
    "    first_order_data.append(data)\n",
    "    axes[\"ale\"].xaxis.set_tick_params(rotation=45)\n",
    "    axes[\"quantiles_x\"].xaxis.set_tick_params(rotation=45)"
   ]
  },
  {
   "cell_type": "code",
   "execution_count": null,
   "metadata": {},
   "outputs": [],
   "source": [
    "first_order_data = []\n",
    "for feature in tqdm(X.columns, desc=\"Feature ALEs\"):\n",
    "    fig, axes, data = ale_plot(\n",
    "        model,\n",
    "        X,\n",
    "        feature,\n",
    "        bins=20,\n",
    "        fig=plt.figure(),\n",
    "        monte_carlo=True,\n",
    "        monte_carlo_rep=200,\n",
    "        monte_carlo_ratio=20,\n",
    "        verbose=True,\n",
    "        plot_quantiles=True,\n",
    "        center=False,\n",
    "        quantile_axis=True,\n",
    "        return_data=True,\n",
    "    )\n",
    "    first_order_data.append(data)\n",
    "    axes[\"ale\"].xaxis.set_tick_params(rotation=45)\n",
    "    axes[\"quantiles_x\"].xaxis.set_tick_params(rotation=45)"
   ]
  },
  {
   "cell_type": "markdown",
   "metadata": {},
   "source": [
    "### Get second-order ALE plots and data"
   ]
  },
  {
   "cell_type": "code",
   "execution_count": null,
   "metadata": {},
   "outputs": [],
   "source": [
    "second_order_data = []\n",
    "for features in tqdm(list(combinations(X.columns, 2)), desc=\"Feature pair 2D ALEs\"):\n",
    "    fig, axes, data = ale_plot(\n",
    "        model,\n",
    "        X,\n",
    "        features,\n",
    "        bins=20,\n",
    "        fig=plt.figure(),\n",
    "        plot_quantiles=True,\n",
    "        quantile_axis=True,\n",
    "        return_data=True,\n",
    "        n_jobs=-1,\n",
    "    )\n",
    "    second_order_data.append(data)\n",
    "    axes[\"ale\"].xaxis.set_tick_params(rotation=45)\n",
    "    axes[\"quantiles_x\"].xaxis.set_tick_params(rotation=45)"
   ]
  },
  {
   "cell_type": "markdown",
   "metadata": {},
   "source": [
    "### Importances based off the vertical extent of the first-order ALE plots"
   ]
  },
  {
   "cell_type": "code",
   "execution_count": null,
   "metadata": {},
   "outputs": [],
   "source": [
    "first_order_imps = {}\n",
    "for feature, data in zip(X.columns, first_order_data):\n",
    "    quantiles, ale = data\n",
    "    first_order_imps[feature] = np.ptp(ale)\n",
    "first_order_imps = pd.Series(first_order_imps, name=\"1st Order Importance\")\n",
    "first_order_imps"
   ]
  },
  {
   "cell_type": "markdown",
   "metadata": {},
   "source": [
    "### Importances based off the amplitude of the second-order ALE plots"
   ]
  },
  {
   "cell_type": "code",
   "execution_count": null,
   "metadata": {},
   "outputs": [],
   "source": [
    "second_order_imps = {}\n",
    "for features, data in zip(combinations(X.columns, 2), second_order_data):\n",
    "    quantiles, ale, samples = data\n",
    "    second_order_imps[features] = np.ptp(ale)\n",
    "second_order_imps = pd.Series(second_order_imps, name=\"2nd Order Importance\")\n",
    "second_order_imps"
   ]
  },
  {
   "cell_type": "markdown",
   "metadata": {},
   "source": [
    "### Evaluate the feature correlations"
   ]
  },
  {
   "cell_type": "code",
   "execution_count": null,
   "metadata": {},
   "outputs": [],
   "source": [
    "X.corr()"
   ]
  },
  {
   "cell_type": "markdown",
   "metadata": {},
   "source": [
    "### SHAP values"
   ]
  },
  {
   "cell_type": "code",
   "execution_count": null,
   "metadata": {},
   "outputs": [],
   "source": [
    "explainer = TreeExplainer(model)"
   ]
  },
  {
   "cell_type": "code",
   "execution_count": null,
   "metadata": {},
   "outputs": [],
   "source": [
    "N = X.shape[0]\n",
    "chunks = 10\n",
    "chunksize = math.ceil(N / chunks)"
   ]
  },
  {
   "cell_type": "code",
   "execution_count": null,
   "metadata": {},
   "outputs": [],
   "source": [
    "%%time\n",
    "\n",
    "\n",
    "def get_shap_values(index):\n",
    "    return explainer.shap_values(X[index * chunksize : (index + 1) * chunksize])\n",
    "\n",
    "\n",
    "with ProcessPoolExecutor(max_workers=None) as executor:\n",
    "    shap_values = np.vstack(list(executor.map(get_shap_values, range(chunks))))"
   ]
  },
  {
   "cell_type": "code",
   "execution_count": null,
   "metadata": {},
   "outputs": [],
   "source": [
    "%%time\n",
    "\n",
    "\n",
    "def get_shap_interaction_values(index):\n",
    "    return explainer.shap_interaction_values(\n",
    "        X[index * chunksize : (index + 1) * chunksize]\n",
    "    )\n",
    "\n",
    "\n",
    "with ProcessPoolExecutor(max_workers=None) as executor:\n",
    "    shap_interaction_values = np.vstack(\n",
    "        list(executor.map(get_shap_interaction_values, range(chunks)))\n",
    "    )"
   ]
  },
  {
   "cell_type": "code",
   "execution_count": null,
   "metadata": {},
   "outputs": [],
   "source": [
    "summary_plot(shap_values, X, alpha=0.5)"
   ]
  },
  {
   "cell_type": "code",
   "execution_count": null,
   "metadata": {},
   "outputs": [],
   "source": [
    "summary_plot(shap_interaction_values, X)"
   ]
  },
  {
   "cell_type": "code",
   "execution_count": null,
   "metadata": {},
   "outputs": [],
   "source": [
    "summary_plot(shap_interaction_values, X, plot_type=\"compact_dot\")"
   ]
  },
  {
   "cell_type": "code",
   "execution_count": null,
   "metadata": {},
   "outputs": [],
   "source": [
    "dependence_plot(\"a\", shap_values, X)"
   ]
  },
  {
   "cell_type": "code",
   "execution_count": null,
   "metadata": {},
   "outputs": [],
   "source": [
    "dependence_plot(\"b\", shap_values, X)"
   ]
  },
  {
   "cell_type": "code",
   "execution_count": null,
   "metadata": {},
   "outputs": [],
   "source": [
    "force_plot(np.mean(model.predict(X)), shap_values, X)"
   ]
  },
  {
   "cell_type": "code",
   "execution_count": null,
   "metadata": {},
   "outputs": [],
   "source": [
    "shap_values.shape"
   ]
  },
  {
   "cell_type": "code",
   "execution_count": null,
   "metadata": {},
   "outputs": [],
   "source": [
    "shap_interaction_values.shape"
   ]
  },
  {
   "cell_type": "code",
   "execution_count": null,
   "metadata": {},
   "outputs": [],
   "source": [
    "plt.hist(shap_values[:, 0])"
   ]
  },
  {
   "cell_type": "code",
   "execution_count": null,
   "metadata": {},
   "outputs": [],
   "source": [
    "plt.hist(\n",
    "    shap_interaction_values[:, 0, 0]\n",
    "    + shap_interaction_values[:, 0, 1]\n",
    "    - shap_values[:, 0]\n",
    ")"
   ]
  },
  {
   "cell_type": "code",
   "execution_count": null,
   "metadata": {},
   "outputs": [],
   "source": [
    "plt.hist(\n",
    "    shap_interaction_values[:, 0, 0]\n",
    "    + shap_interaction_values[:, 1, 0]\n",
    "    - shap_values[:, 0]\n",
    ")"
   ]
  },
  {
   "cell_type": "code",
   "execution_count": null,
   "metadata": {},
   "outputs": [],
   "source": [
    "plt.hist(\n",
    "    shap_interaction_values[:, 0, 0]\n",
    "    + 2 * shap_interaction_values[:, 1, 0]\n",
    "    - shap_values[:, 0]\n",
    ")"
   ]
  },
  {
   "cell_type": "code",
   "execution_count": null,
   "metadata": {},
   "outputs": [],
   "source": [
    "plt.hist(shap_interaction_values[:, 1, 0] - shap_interaction_values[:, 0, 1])"
   ]
  }
 ],
 "metadata": {
  "kernelspec": {
   "display_name": "Python 3",
   "language": "python",
   "name": "python3"
  }
 },
 "nbformat": 4,
 "nbformat_minor": 4
}
